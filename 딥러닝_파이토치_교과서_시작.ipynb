{
  "nbformat": 4,
  "nbformat_minor": 0,
  "metadata": {
    "colab": {
      "provenance": []
    },
    "kernelspec": {
      "name": "python3",
      "display_name": "Python 3"
    },
    "language_info": {
      "name": "python"
    }
  },
  "cells": [
    {
      "cell_type": "code",
      "execution_count": 3,
      "metadata": {
        "colab": {
          "base_uri": "https://localhost:8080/"
        },
        "id": "cOqX5NEERgT-",
        "outputId": "81cba619-2da1-441a-ab7f-608b51148a09"
      },
      "outputs": [
        {
          "output_type": "stream",
          "name": "stdout",
          "text": [
            "tensor([[1, 2],\n",
            "        [3, 4]])\n",
            "tensor([[1., 2.],\n",
            "        [3., 4.]], dtype=torch.float64)\n"
          ]
        }
      ],
      "source": [
        "import torch\n",
        "print(torch.tensor([[1,2],[3,4]])) #2차원 형태의 텐서 생성\n",
        "print(torch.tensor([[1,2], [3,4]], dtype = torch.float64)) #dtype 이용하여 텐서 생성"
      ]
    },
    {
      "cell_type": "code",
      "source": [
        "temp = torch.tensor([[1,2], [3,4]])\n",
        "print(temp.numpy()) #텐서를 ndarray로 변환"
      ],
      "metadata": {
        "colab": {
          "base_uri": "https://localhost:8080/"
        },
        "id": "uvARyfDCR8Op",
        "outputId": "8555cf98-57cc-4a07-ce62-97e55f587ece"
      },
      "execution_count": 4,
      "outputs": [
        {
          "output_type": "stream",
          "name": "stdout",
          "text": [
            "[[1 2]\n",
            " [3 4]]\n"
          ]
        }
      ]
    },
    {
      "cell_type": "code",
      "source": [
        "temp = torch.FloatTensor([1,2,3,4,5,6,7]) #파이토치로 1차원 벡터 생성\n",
        "print(temp[0], temp[1], temp[-1]) #인덱스로 접근\n",
        "print('-----------------------')\n",
        "print(temp[2:5], temp[4:-1]) #슬라이스로 접근"
      ],
      "metadata": {
        "colab": {
          "base_uri": "https://localhost:8080/"
        },
        "id": "UjqxRYroTK23",
        "outputId": "b93b0188-760a-448b-99ca-3b30b1bbdcbd"
      },
      "execution_count": 5,
      "outputs": [
        {
          "output_type": "stream",
          "name": "stdout",
          "text": [
            "tensor(1.) tensor(2.) tensor(7.)\n",
            "-----------------------\n",
            "tensor([3., 4., 5.]) tensor([5., 6.])\n"
          ]
        }
      ]
    },
    {
      "cell_type": "code",
      "source": [
        "v = torch.tensor([1,2,3])\n",
        "w = torch.tensor([3,4,6])\n",
        "print(w - v)"
      ],
      "metadata": {
        "colab": {
          "base_uri": "https://localhost:8080/"
        },
        "id": "KMosVdYjTzIy",
        "outputId": "593e8e7c-65eb-499d-85fb-5d8e975798a4"
      },
      "execution_count": 6,
      "outputs": [
        {
          "output_type": "stream",
          "name": "stdout",
          "text": [
            "tensor([2, 2, 3])\n"
          ]
        }
      ]
    },
    {
      "cell_type": "code",
      "source": [
        "temp = torch.tensor([[1,2], [3,4]]) #2*2 행렬 생성\n",
        "print(temp.shape)\n",
        "print('-------------------')\n",
        "print(temp.view(4,1)) #2*2행렬을 4*1로 변형\n",
        "print('-------------------')\n",
        "print(temp.view(-1)) #2*2행렬을 1차원 벡터로 변형\n",
        "print('-------------------')\n",
        "print(temp.view(1, -1)) #1 * 자동 변형\n",
        "print('-------------------')\n",
        "print(temp.view(-1, 1))"
      ],
      "metadata": {
        "colab": {
          "base_uri": "https://localhost:8080/"
        },
        "id": "5qiG4uDcVw9r",
        "outputId": "b35ff3cd-1c0f-40c6-88ab-b34966118cdd"
      },
      "execution_count": 7,
      "outputs": [
        {
          "output_type": "stream",
          "name": "stdout",
          "text": [
            "torch.Size([2, 2])\n",
            "-------------------\n",
            "tensor([[1],\n",
            "        [2],\n",
            "        [3],\n",
            "        [4]])\n",
            "-------------------\n",
            "tensor([1, 2, 3, 4])\n",
            "-------------------\n",
            "tensor([[1, 2, 3, 4]])\n",
            "-------------------\n",
            "tensor([[1],\n",
            "        [2],\n",
            "        [3],\n",
            "        [4]])\n"
          ]
        }
      ]
    },
    {
      "cell_type": "code",
      "source": [],
      "metadata": {
        "id": "iwK_YqaRWtv1"
      },
      "execution_count": null,
      "outputs": []
    }
  ]
}